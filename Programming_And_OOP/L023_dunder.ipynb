{
 "cells": [
  {
   "cell_type": "code",
   "execution_count": 1,
   "metadata": {},
   "outputs": [],
   "source": [
    "# dunder methods\n"
   ]
  },
  {
   "cell_type": "code",
   "execution_count": 32,
   "metadata": {},
   "outputs": [
    {
     "name": "stdout",
     "output_type": "stream",
     "text": [
      "Cat(\"mjau\")\n",
      "This is a cat named mjau\n"
     ]
    }
   ],
   "source": [
    "class Cat:\n",
    "    def __init__(self, name):\n",
    "        self.name = name\n",
    "\n",
    "    def __str__(self):\n",
    "        return self.name\n",
    "    def __repr__(self):\n",
    "       return f'Cat(\"{self.name}\")'\n",
    "\n",
    "my_cat = Cat(\"mjau\")\n",
    "\n",
    "my_int = 5\n",
    "my_bool = True\n",
    "my_string = str(my_cat)\n",
    "\n",
    "print(repr(my_cat))\n",
    "print(str(my_cat))\n"
   ]
  },
  {
   "cell_type": "code",
   "execution_count": 26,
   "metadata": {},
   "outputs": [
    {
     "name": "stdout",
     "output_type": "stream",
     "text": [
      "This is a cat named mjau\n",
      "This is a cat named emil\n",
      "This is a cat named Lena\n"
     ]
    }
   ],
   "source": [
    "cats = [Cat(\"mjau\"), Cat(\"emil\"), Cat(\"Lena\")]\n",
    "\n",
    "for cat in cats:\n",
    "    print(str(cat))"
   ]
  },
  {
   "cell_type": "code",
   "execution_count": 35,
   "metadata": {},
   "outputs": [
    {
     "name": "stdout",
     "output_type": "stream",
     "text": [
      "Cat(\"mjau\")\n",
      "15\n"
     ]
    }
   ],
   "source": [
    "my_cat = Cat(\"mjau\")\n",
    "\n",
    "print(repr(my_cat))\n",
    "\n",
    "copycat = eval(repr(my_cat))\n",
    "copycat.name\n",
    "\n",
    "eval(\"print(15)\")"
   ]
  }
 ],
 "metadata": {
  "kernelspec": {
   "display_name": "Python 3",
   "language": "python",
   "name": "python3"
  },
  "language_info": {
   "codemirror_mode": {
    "name": "ipython",
    "version": 3
   },
   "file_extension": ".py",
   "mimetype": "text/x-python",
   "name": "python",
   "nbconvert_exporter": "python",
   "pygments_lexer": "ipython3",
   "version": "3.11.5"
  },
  "orig_nbformat": 4
 },
 "nbformat": 4,
 "nbformat_minor": 2
}
