{
 "cells": [
  {
   "cell_type": "markdown",
   "metadata": {},
   "source": [
    "# Dictionaries\n",
    "- Dictionaries are used to store data in key-value pairs.\n",
    "- Keys are used to access values, and must be unique.\n",
    "- Only immutable types (eg. string, int, float, bool) can be used as keys.\n",
    "- Dictionaries are ordered and changable."
   ]
  },
  {
   "cell_type": "code",
   "execution_count": 2,
   "metadata": {},
   "outputs": [
    {
     "name": "stdout",
     "output_type": "stream",
     "text": [
      "teacher[\"contactinfo\"][\"email\"][1] = 'fredrik@gmail.com'\n",
      "teacher = {'firstname': 'Fredrik', 'age': 42, 'languages': ['Python', 'C#', 'Javascript'], 'contactinfo': {'phone': '0702345678', 'email': ['fredrik@everyloop.com', 'fredrik@gmail.com', 'fredrik.johansson@hotmail.com']}, 'length': 1.8}\n",
      "removed_value = 'Johansson'\n"
     ]
    }
   ],
   "source": [
    "# Create empty dictionary\n",
    "empty_dictionary = {}\n",
    "\n",
    "# Create dictionary with items\n",
    "teacher = {\n",
    "    \"firstname\": \"Fredrik\", \n",
    "    \"lastname\": \"Johansson\", \n",
    "    \"age\": 42,\n",
    "    \"languages\": [\"Python\", \"C#\", \"Javascript\"],\n",
    "    \"contactinfo\": {\n",
    "        \"phone\": \"0702345678\",\n",
    "        \"email\": [\n",
    "            \"fredrik@everyloop.com\", \n",
    "            \"fredrik@gmail.com\", \n",
    "            \"fredrik.johansson@hotmail.com\",\n",
    "        ]\n",
    "    }\n",
    "}\n",
    "\n",
    "# Get number of items in dictionary\n",
    "print(f'{teacher[\"contactinfo\"][\"email\"][1] = }')\n",
    "\n",
    "# Add key to dictionary\n",
    "teacher[\"length\"] = 1.80\n",
    "\n",
    "# Remove key and return value from dictionary\n",
    "removed_value = teacher.pop(\"lastname\")\n",
    "\n",
    "print(f\"{teacher = }\")\n",
    "print(f\"{removed_value = }\")\n",
    "\n"
   ]
  },
  {
   "cell_type": "markdown",
   "metadata": {},
   "source": [
    "## Get value using key"
   ]
  },
  {
   "cell_type": "code",
   "execution_count": 4,
   "metadata": {},
   "outputs": [
    {
     "ename": "NameError",
     "evalue": "name 'teacher' is not defined",
     "output_type": "error",
     "traceback": [
      "\u001b[1;31m---------------------------------------------------------------------------\u001b[0m",
      "\u001b[1;31mNameError\u001b[0m                                 Traceback (most recent call last)",
      "\u001b[1;32mc:\\Users\\diana\\OneDrive\\Dokument\\Python-Emil-Ktesh\\Code-Along\\L010_Dictionaries.ipynb Cell 4\u001b[0m line \u001b[0;36m3\n\u001b[0;32m      <a href='vscode-notebook-cell:/c%3A/Users/diana/OneDrive/Dokument/Python-Emil-Ktesh/Code-Along/L010_Dictionaries.ipynb#W3sZmlsZQ%3D%3D?line=0'>1</a>\u001b[0m key \u001b[39m=\u001b[39m \u001b[39minput\u001b[39m(\u001b[39m\"\u001b[39m\u001b[39mEnter key: \u001b[39m\u001b[39m\"\u001b[39m)\n\u001b[1;32m----> <a href='vscode-notebook-cell:/c%3A/Users/diana/OneDrive/Dokument/Python-Emil-Ktesh/Code-Along/L010_Dictionaries.ipynb#W3sZmlsZQ%3D%3D?line=2'>3</a>\u001b[0m \u001b[39mif\u001b[39;00m key \u001b[39min\u001b[39;00m teacher:\n\u001b[0;32m      <a href='vscode-notebook-cell:/c%3A/Users/diana/OneDrive/Dokument/Python-Emil-Ktesh/Code-Along/L010_Dictionaries.ipynb#W3sZmlsZQ%3D%3D?line=3'>4</a>\u001b[0m     \u001b[39mprint\u001b[39m(teacher[key])\n\u001b[0;32m      <a href='vscode-notebook-cell:/c%3A/Users/diana/OneDrive/Dokument/Python-Emil-Ktesh/Code-Along/L010_Dictionaries.ipynb#W3sZmlsZQ%3D%3D?line=4'>5</a>\u001b[0m \u001b[39melse\u001b[39;00m:\n",
      "\u001b[1;31mNameError\u001b[0m: name 'teacher' is not defined"
     ]
    }
   ],
   "source": [
    "key = input(\"Enter key: \")\n",
    "\n",
    "if key in teacher:\n",
    "    print(teacher[key])\n",
    "else:\n",
    "    print(\"😣\")\n"
   ]
  },
  {
   "cell_type": "code",
   "execution_count": 2,
   "metadata": {},
   "outputs": [
    {
     "name": "stdout",
     "output_type": "stream",
     "text": [
      "42\n"
     ]
    }
   ],
   "source": [
    "key = input(\"Enter key: \")\n",
    "print(teacher.get(key, \"😣\"))"
   ]
  },
  {
   "cell_type": "markdown",
   "metadata": {},
   "source": [
    "## Looping through a dictionary"
   ]
  },
  {
   "cell_type": "code",
   "execution_count": 63,
   "metadata": {},
   "outputs": [
    {
     "name": "stdout",
     "output_type": "stream",
     "text": [
      "firstname\n",
      "age\n",
      "languages\n",
      "contactinfo\n",
      "length\n",
      "\n",
      "Fredrik\n",
      "42\n",
      "['Python', 'C#', 'Javascript']\n",
      "{'phone': '0702345678', 'email': ['fredrik@everyloop.com', 'fredrik@gmail.com', 'fredrik.johansson@hotmail.com']}\n",
      "1.8\n",
      "\n",
      "firstname = Fredrik\n",
      "age = 42\n",
      "languages = ['Python', 'C#', 'Javascript']\n",
      "contactinfo = {'phone': '0702345678', 'email': ['fredrik@everyloop.com', 'fredrik@gmail.com', 'fredrik.johansson@hotmail.com']}\n",
      "length = 1.8\n",
      "\n",
      "firstname = Fredrik\n",
      "age = 42\n",
      "languages = ['Python', 'C#', 'Javascript']\n",
      "contactinfo = {'phone': '0702345678', 'email': ['fredrik@everyloop.com', 'fredrik@gmail.com', 'fredrik.johansson@hotmail.com']}\n",
      "length = 1.8\n"
     ]
    }
   ],
   "source": [
    "for key in teacher.keys():\n",
    "    print(key)\n",
    "\n",
    "print()\n",
    "\n",
    "for value in teacher.values():\n",
    "    print(value)\n",
    "\n",
    "print()\n",
    "\n",
    "for key in teacher:\n",
    "    print(f\"{key} = {teacher[key]}\")\n",
    "\n",
    "print()\n",
    "\n",
    "for key, value in teacher.items():\n",
    "    print(f\"{key} = {value}\")\n"
   ]
  }
 ],
 "metadata": {
  "kernelspec": {
   "display_name": "Python-AI23-PtEMjJox",
   "language": "python",
   "name": "python3"
  },
  "language_info": {
   "codemirror_mode": {
    "name": "ipython",
    "version": 3
   },
   "file_extension": ".py",
   "mimetype": "text/x-python",
   "name": "python",
   "nbconvert_exporter": "python",
   "pygments_lexer": "ipython3",
   "version": "3.11.5"
  },
  "orig_nbformat": 4
 },
 "nbformat": 4,
 "nbformat_minor": 2
}
