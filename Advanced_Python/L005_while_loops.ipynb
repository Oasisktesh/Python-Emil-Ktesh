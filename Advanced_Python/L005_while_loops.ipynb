{
 "cells": [
  {
   "cell_type": "markdown",
   "metadata": {},
   "source": [
    "# Loops\n",
    "Python Has two primitive loop commands:\n",
    "- first one is, While loops\n",
    "- second one is, for loops"
   ]
  },
  {
   "cell_type": "markdown",
   "metadata": {},
   "source": [
    "## the while loop\n",
    "\n",
    "Executes a set of"
   ]
  },
  {
   "cell_type": "code",
   "execution_count": 17,
   "metadata": {},
   "outputs": [
    {
     "name": "stdout",
     "output_type": "stream",
     "text": [
      "10: Hello worlds\n",
      " 9: Hello worlds\n",
      " 8: Hello worlds\n",
      " 7: Hello worlds\n",
      " 6: Hello worlds\n",
      "end.\n"
     ]
    }
   ],
   "source": [
    "counter = 10\n",
    "\n",
    "while counter > 5:\n",
    "    print(f\"{counter:2d}: Hello worlds\")\n",
    "    counter = counter - 1\n",
    "    \n",
    "print(\"end.\")"
   ]
  },
  {
   "cell_type": "markdown",
   "metadata": {},
   "source": [
    "# Break statement"
   ]
  },
  {
   "cell_type": "code",
   "execution_count": null,
   "metadata": {},
   "outputs": [],
   "source": [
    "\n",
    "counter = 10\n",
    "while True:\n",
    "    print(\"meow\")\n",
    "    counter -= 1\n",
    "    if counter < 0: break\n",
    "\n"
   ]
  },
  {
   "cell_type": "markdown",
   "metadata": {},
   "source": [
    "## Continue Statement\n",
    "used to stop a current iteration\n"
   ]
  },
  {
   "cell_type": "code",
   "execution_count": null,
   "metadata": {},
   "outputs": [],
   "source": [
    "mycounter = 0\n",
    "while mycounter < 5:\n",
    "    print(\"hello\")\n",
    "    mycounter  += 1\n",
    "    if (mycounter > 3): continue\n",
    "    print(\"not hello\")\n",
    "\n",
    "print:(\"end\")"
   ]
  },
  {
   "cell_type": "markdown",
   "metadata": {},
   "source": [
    "## The else statement"
   ]
  },
  {
   "cell_type": "code",
   "execution_count": 48,
   "metadata": {},
   "outputs": [
    {
     "name": "stdout",
     "output_type": "stream",
     "text": [
      "10: Hello worlds\n",
      " 9: Hello worlds\n",
      " 8: Hello worlds\n",
      " 7: Hello worlds\n",
      " 6: Hello worlds\n",
      " 5: Hello worlds\n",
      " 4: Hello worlds\n",
      " 3: Hello worlds\n",
      " 2: Hello worlds\n",
      " 1: Hello worlds\n",
      "The End\n"
     ]
    }
   ],
   "source": [
    "counter = 10\n",
    "\n",
    "while counter > 0:\n",
    "    print(f\"{counter:2d}: Hello worlds\")\n",
    "    counter = counter - 1\n",
    "else:\n",
    "    print(\"The End\")\n",
    "    "
   ]
  }
 ],
 "metadata": {
  "kernelspec": {
   "display_name": "Python 3",
   "language": "python",
   "name": "python3"
  },
  "language_info": {
   "codemirror_mode": {
    "name": "ipython",
    "version": 3
   },
   "file_extension": ".py",
   "mimetype": "text/x-python",
   "name": "python",
   "nbconvert_exporter": "python",
   "pygments_lexer": "ipython3",
   "version": "3.11.5"
  },
  "orig_nbformat": 4
 },
 "nbformat": 4,
 "nbformat_minor": 2
}
