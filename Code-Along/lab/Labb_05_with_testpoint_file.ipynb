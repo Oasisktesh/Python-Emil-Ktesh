{
 "cells": [
  {
   "cell_type": "code",
   "execution_count": 3,
   "metadata": {},
   "outputs": [
    {
     "name": "stdout",
     "output_type": "stream",
     "text": [
      "\n",
      "\n"
     ]
    }
   ],
   "source": [
    "#first block: extracting information from files.\n",
    "import sys\n",
    "import math\n",
    "\n",
    "# Read the data from datapoints\n",
    "with open('datapointss.txt', 'r') as file:\n",
    "    data = []  \n",
    "    for line in file:\n",
    "        values = line.strip().split(',')\n",
    "        try:\n",
    "            width = float(values[0])\n",
    "            height = float(values[1])\n",
    "            label = int(values[2])\n",
    "            data.append((width, height, label))\n",
    "        except ValueError:\n",
    "            print(\"\")\n",
    "\n",
    "# Read the test points from testpoints\n",
    "with open('testpoints (6).txt', 'r') as file:\n",
    "    testpoints = []  \n",
    "    for line in file:\n",
    "        value_test = line.strip().split(',')\n",
    "        try:\n",
    "            width_test = float(value_test[0])\n",
    "            height_test = float(value_test[1])\n",
    "            testpoints.append((width_test, height_test))\n",
    "        except ValueError:\n",
    "            print(\"\")\n"
   ]
  },
  {
   "cell_type": "code",
   "execution_count": 4,
   "metadata": {},
   "outputs": [],
   "source": [
    "#Second block: Classification function which will help us how to find the answer for what pokemon may be the most likely\n",
    "def classify_point(point):\n",
    "    nearest_points = []\n",
    "\n",
    "    for labeled_point in data:\n",
    "        distance = math.sqrt((point[0] - labeled_point[0]) ** 2 + (point[1] - labeled_point[1]) ** 2)\n",
    "        nearest_points.append((labeled_point[2], distance))\n",
    "\n",
    "    nearest_points.sort(key=lambda item: item[1])\n",
    "\n",
    "    pichu_count = 0\n",
    "    pikachu_count = 0\n",
    "\n",
    "    for label, _ in nearest_points[:10]:\n",
    "        if label == 0:\n",
    "            pichu_count += 1\n",
    "        elif label == 1:\n",
    "            pikachu_count += 1\n",
    "\n",
    "    if pikachu_count > pichu_count:\n",
    "        return \"Pikachu\"\n",
    "    elif pichu_count > pikachu_count:\n",
    "        return \"Pichu\"\n",
    "    else:\n",
    "        return \"Cannot determine\"\n"
   ]
  },
  {
   "cell_type": "code",
   "execution_count": 5,
   "metadata": {},
   "outputs": [
    {
     "name": "stdout",
     "output_type": "stream",
     "text": [
      "(25.0, 32.0) = Pikachu\n",
      "(24.2, 31.5) = Cannot determine\n",
      "(22.0, 34.0) = Pikachu\n",
      "(20.5, 34.0) = Pichu\n"
     ]
    }
   ],
   "source": [
    "#third block: Result.\n",
    "\n",
    "# Classify and print the test points\n",
    "for i, testpoint in enumerate(testpoints):\n",
    "    result = classify_point(testpoint)\n",
    "    print(f\"({testpoint[0]}, {testpoint[1]}) = {result}\")"
   ]
  }
 ],
 "metadata": {
  "kernelspec": {
   "display_name": "Python 3",
   "language": "python",
   "name": "python3"
  },
  "language_info": {
   "codemirror_mode": {
    "name": "ipython",
    "version": 3
   },
   "file_extension": ".py",
   "mimetype": "text/x-python",
   "name": "python",
   "nbconvert_exporter": "python",
   "pygments_lexer": "ipython3",
   "version": "3.11.5"
  },
  "orig_nbformat": 4
 },
 "nbformat": 4,
 "nbformat_minor": 2
}
