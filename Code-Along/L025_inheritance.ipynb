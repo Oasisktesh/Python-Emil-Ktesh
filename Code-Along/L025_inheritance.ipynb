{
 "cells": [
  {
   "cell_type": "markdown",
   "metadata": {},
   "source": [
    "# inheritance"
   ]
  },
  {
   "cell_type": "code",
   "execution_count": 12,
   "metadata": {},
   "outputs": [
    {
     "name": "stdout",
     "output_type": "stream",
     "text": [
      "nemo the fish is swimming\n",
      "lena is running\n",
      "emil is running\n",
      "emil barks\n"
     ]
    }
   ],
   "source": [
    "class Animal:\n",
    "    def __init__(self,name):\n",
    "        \n",
    "        self.name = name\n",
    "\n",
    "    def __repr__(self):\n",
    "        return f\"my name is {self.name} and iam a {type(self)} \"\n",
    "\n",
    "    def run(self):\n",
    "        print(f\"{self.name} is running\")\n",
    "\n",
    "    \n",
    "class Fish(Animal):\n",
    "    #method override\n",
    "    def run(self):\n",
    "        print(f\"{self.name} is swimming\")\n",
    "\n",
    "class Cat(Animal):\n",
    "    ...\n",
    "\n",
    "class Dog(Animal):\n",
    "    def bark(self):\n",
    "        print(f\"{self.name} barks\")\n",
    "\n",
    "animals = [\n",
    "Fish(\"nemo the fish\"),\n",
    "Cat(\"lena\"),\n",
    "Dog(\"emil\")\n",
    "]\n",
    "\n",
    "\n",
    "her_dog = Dog(\"emil\")\n",
    "my_fish = Fish(\"nemo the fish\")\n",
    "the_cat = Cat(\"lena\")\n",
    "for animal in animals:\n",
    "    animal.run()\n",
    "    if type(animal) == Dog:\n",
    "        animal.bark()\n",
    "\n",
    "\n"
   ]
  },
  {
   "cell_type": "code",
   "execution_count": null,
   "metadata": {},
   "outputs": [],
   "source": []
  }
 ],
 "metadata": {
  "kernelspec": {
   "display_name": "Python 3",
   "language": "python",
   "name": "python3"
  },
  "language_info": {
   "codemirror_mode": {
    "name": "ipython",
    "version": 3
   },
   "file_extension": ".py",
   "mimetype": "text/x-python",
   "name": "python",
   "nbconvert_exporter": "python",
   "pygments_lexer": "ipython3",
   "version": "3.11.5"
  },
  "orig_nbformat": 4
 },
 "nbformat": 4,
 "nbformat_minor": 2
}
