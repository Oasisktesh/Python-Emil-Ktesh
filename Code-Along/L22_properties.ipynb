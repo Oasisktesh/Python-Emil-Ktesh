{
 "cells": [
  {
   "cell_type": "markdown",
   "metadata": {},
   "source": [
    "# properties"
   ]
  },
  {
   "cell_type": "code",
   "execution_count": 1,
   "metadata": {},
   "outputs": [],
   "source": [
    "class Employee:\n",
    "  \n",
    "    def __init__(self, name, salary):\n",
    "        self.name = name\n",
    "        self.salary = 0 if salary < 0 else salary\n",
    "\n",
    "\n",
    "    def set_salary(self, salary):\n",
    "        self.salary = 0 if salary < 0 else salary\n",
    "\n",
    "    def get_salary(self):\n",
    "        return self.salary\n",
    "\n",
    "\n",
    "            "
   ]
  },
  {
   "cell_type": "code",
   "execution_count": 2,
   "metadata": {},
   "outputs": [
    {
     "name": "stdout",
     "output_type": "stream",
     "text": [
      "500000\n",
      "90000\n"
     ]
    }
   ],
   "source": [
    "employee = Employee(\"Lena\", 400000)\n",
    "employee2 = Employee(\"Emil\", 300000)\n",
    "\n",
    "employee.set_salary(500000)\n",
    "employee2.set_salary(90000)\n",
    "\n",
    "\n",
    "print(employee.get_salary())\n",
    "print(employee2.get_salary())"
   ]
  },
  {
   "cell_type": "code",
   "execution_count": 1,
   "metadata": {},
   "outputs": [
    {
     "ename": "",
     "evalue": "",
     "output_type": "error",
     "traceback": [
      "\u001b[1;31mThe Kernel crashed while executing code in the the current cell or a previous cell. Please review the code in the cell(s) to identify a possible cause of the failure. Click <a href='https://aka.ms/vscodeJupyterKernelCrash'>here</a> for more info. View Jupyter <a href='command:jupyter.viewOutput'>log</a> for further details."
     ]
    }
   ],
   "source": [
    "class Employee:\n",
    "    def __init__(self, name, age):\n",
    "        self.name = name\n",
    "        self.age = age\n",
    "\n",
    "    # Getter method\n",
    "    @property\n",
    "    def age(self):\n",
    "        return self.age\n",
    "\n",
    "    # Setter method\n",
    "    @age.setter\n",
    "    def age(self, age):\n",
    "        self.age = 0 if age < 0 or age > 100 else age\n",
    "\n",
    "employee = Employee(\"Lena\", 400000)\n"
   ]
  }
 ],
 "metadata": {
  "kernelspec": {
   "display_name": "Python 3",
   "language": "python",
   "name": "python3"
  },
  "language_info": {
   "codemirror_mode": {
    "name": "ipython",
    "version": 3
   },
   "file_extension": ".py",
   "mimetype": "text/x-python",
   "name": "python",
   "nbconvert_exporter": "python",
   "pygments_lexer": "ipython3",
   "version": "3.11.5"
  },
  "orig_nbformat": 4
 },
 "nbformat": 4,
 "nbformat_minor": 2
}
