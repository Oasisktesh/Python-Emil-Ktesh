{
 "cells": [
  {
   "cell_type": "markdown",
   "metadata": {},
   "source": [
    "# properties"
   ]
  },
  {
   "cell_type": "code",
   "execution_count": 81,
   "metadata": {},
   "outputs": [],
   "source": [
    "class Employee:\n",
    "  \n",
    "    def __init__(self, name, salary):\n",
    "        self.name = name\n",
    "        self.salary = 0 if salary < 0 else salary\n",
    "\n",
    "\n",
    "    def set_salary(self, salary):\n",
    "        self.salary = 0 if salary < 0 else salary\n",
    "\n",
    "    def get_salary(self):\n",
    "        return self.salary\n",
    "\n",
    "\n",
    "            "
   ]
  },
  {
   "cell_type": "code",
   "execution_count": 84,
   "metadata": {},
   "outputs": [
    {
     "name": "stdout",
     "output_type": "stream",
     "text": [
      "500000\n",
      "90000\n"
     ]
    }
   ],
   "source": [
    "employee = Employee(\"Lena\", 400000)\n",
    "employee2 = Employee(\"Emil\", 300000)\n",
    "\n",
    "employee.set_salary(500000)\n",
    "employee2.set_salary(90000)\n",
    "\n",
    "\n",
    "print(employee.get_salary())\n",
    "print(employee2.get_salary())"
   ]
  }
 ],
 "metadata": {
  "kernelspec": {
   "display_name": "Python 3",
   "language": "python",
   "name": "python3"
  },
  "language_info": {
   "codemirror_mode": {
    "name": "ipython",
    "version": 3
   },
   "file_extension": ".py",
   "mimetype": "text/x-python",
   "name": "python",
   "nbconvert_exporter": "python",
   "pygments_lexer": "ipython3",
   "version": "3.11.5"
  },
  "orig_nbformat": 4
 },
 "nbformat": 4,
 "nbformat_minor": 2
}
