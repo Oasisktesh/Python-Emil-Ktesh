{
 "cells": [
  {
   "cell_type": "code",
   "execution_count": 2,
   "metadata": {},
   "outputs": [
    {
     "data": {
      "text/plain": [
       "8"
      ]
     },
     "execution_count": 2,
     "metadata": {},
     "output_type": "execute_result"
    }
   ],
   "source": [
    "5 + 3"
   ]
  },
  {
   "cell_type": "code",
   "execution_count": 4,
   "metadata": {},
   "outputs": [
    {
     "data": {
      "text/plain": [
       "'hello world'"
      ]
     },
     "execution_count": 4,
     "metadata": {},
     "output_type": "execute_result"
    }
   ],
   "source": [
    "\"hello\" + \" world\""
   ]
  },
  {
   "cell_type": "code",
   "execution_count": 6,
   "metadata": {},
   "outputs": [
    {
     "data": {
      "text/plain": [
       "['kiwi', 'orange', 'melom.', 'lena']"
      ]
     },
     "execution_count": 6,
     "metadata": {},
     "output_type": "execute_result"
    }
   ],
   "source": [
    "[\"kiwi\", \"orange\", \"melom.\"] + [\"lena\"]"
   ]
  },
  {
   "cell_type": "code",
   "execution_count": 3,
   "metadata": {},
   "outputs": [
    {
     "ename": "TypeError",
     "evalue": "unsupported operand type(s) for +: 'NoneType' and 'float'",
     "output_type": "error",
     "traceback": [
      "\u001b[1;31m---------------------------------------------------------------------------\u001b[0m",
      "\u001b[1;31mTypeError\u001b[0m                                 Traceback (most recent call last)",
      "\u001b[1;32mc:\\Users\\diana\\OneDrive\\Dokument\\Python-Emil-Ktesh\\Code-Along\\L023_op_overload.ipynb Cell 4\u001b[0m line \u001b[0;36m3\n\u001b[0;32m     <a href='vscode-notebook-cell:/c%3A/Users/diana/OneDrive/Dokument/Python-Emil-Ktesh/Code-Along/L023_op_overload.ipynb#W3sZmlsZQ%3D%3D?line=27'>28</a>\u001b[0m         \u001b[39mif\u001b[39;00m \u001b[39mtype\u001b[39m(other) \u001b[39mnot\u001b[39;00m \u001b[39min\u001b[39;00m [\u001b[39mfloat\u001b[39m, \u001b[39mint\u001b[39m, Temperature]:\n\u001b[0;32m     <a href='vscode-notebook-cell:/c%3A/Users/diana/OneDrive/Dokument/Python-Emil-Ktesh/Code-Along/L023_op_overload.ipynb#W3sZmlsZQ%3D%3D?line=28'>29</a>\u001b[0m             \u001b[39mraise\u001b[39;00m \u001b[39mTypeError\u001b[39;00m(\u001b[39m\"\u001b[39m\u001b[39moj, nåt gick fel\u001b[39m\u001b[39m\"\u001b[39m)\n\u001b[1;32m---> <a href='vscode-notebook-cell:/c%3A/Users/diana/OneDrive/Dokument/Python-Emil-Ktesh/Code-Along/L023_op_overload.ipynb#W3sZmlsZQ%3D%3D?line=35'>36</a>\u001b[0m t1 \u001b[39m=\u001b[39m Temperature()\n\u001b[0;32m     <a href='vscode-notebook-cell:/c%3A/Users/diana/OneDrive/Dokument/Python-Emil-Ktesh/Code-Along/L023_op_overload.ipynb#W3sZmlsZQ%3D%3D?line=36'>37</a>\u001b[0m t2 \u001b[39m=\u001b[39m Temperature(celcius\u001b[39m=\u001b[39m\u001b[39m5\u001b[39m)\n\u001b[0;32m     <a href='vscode-notebook-cell:/c%3A/Users/diana/OneDrive/Dokument/Python-Emil-Ktesh/Code-Along/L023_op_overload.ipynb#W3sZmlsZQ%3D%3D?line=38'>39</a>\u001b[0m \u001b[39mrepr\u001b[39m(t1)\n",
      "\u001b[1;32mc:\\Users\\diana\\OneDrive\\Dokument\\Python-Emil-Ktesh\\Code-Along\\L023_op_overload.ipynb Cell 4\u001b[0m line \u001b[0;36m6\n\u001b[0;32m      <a href='vscode-notebook-cell:/c%3A/Users/diana/OneDrive/Dokument/Python-Emil-Ktesh/Code-Along/L023_op_overload.ipynb#W3sZmlsZQ%3D%3D?line=3'>4</a>\u001b[0m      \u001b[39mself\u001b[39m\u001b[39m.\u001b[39mkelvin \u001b[39m=\u001b[39m kelvin\n\u001b[0;32m      <a href='vscode-notebook-cell:/c%3A/Users/diana/OneDrive/Dokument/Python-Emil-Ktesh/Code-Along/L023_op_overload.ipynb#W3sZmlsZQ%3D%3D?line=4'>5</a>\u001b[0m \u001b[39melse\u001b[39;00m:\n\u001b[1;32m----> <a href='vscode-notebook-cell:/c%3A/Users/diana/OneDrive/Dokument/Python-Emil-Ktesh/Code-Along/L023_op_overload.ipynb#W3sZmlsZQ%3D%3D?line=5'>6</a>\u001b[0m     \u001b[39mself\u001b[39;49m\u001b[39m.\u001b[39;49mcelcius \u001b[39m=\u001b[39m celcius\n",
      "\u001b[1;32mc:\\Users\\diana\\OneDrive\\Dokument\\Python-Emil-Ktesh\\Code-Along\\L023_op_overload.ipynb Cell 4\u001b[0m line \u001b[0;36m2\n\u001b[0;32m     <a href='vscode-notebook-cell:/c%3A/Users/diana/OneDrive/Dokument/Python-Emil-Ktesh/Code-Along/L023_op_overload.ipynb#W3sZmlsZQ%3D%3D?line=19'>20</a>\u001b[0m \u001b[39m@celcius\u001b[39m\u001b[39m.\u001b[39msetter\n\u001b[0;32m     <a href='vscode-notebook-cell:/c%3A/Users/diana/OneDrive/Dokument/Python-Emil-Ktesh/Code-Along/L023_op_overload.ipynb#W3sZmlsZQ%3D%3D?line=20'>21</a>\u001b[0m \u001b[39mdef\u001b[39;00m \u001b[39mcelcius\u001b[39m(\u001b[39mself\u001b[39m, celcius):\n\u001b[1;32m---> <a href='vscode-notebook-cell:/c%3A/Users/diana/OneDrive/Dokument/Python-Emil-Ktesh/Code-Along/L023_op_overload.ipynb#W3sZmlsZQ%3D%3D?line=21'>22</a>\u001b[0m     \u001b[39mself\u001b[39m\u001b[39m.\u001b[39m_kelvin \u001b[39m=\u001b[39m celcius \u001b[39m+\u001b[39;49m \u001b[39m273.15\u001b[39;49m\n",
      "\u001b[1;31mTypeError\u001b[0m: unsupported operand type(s) for +: 'NoneType' and 'float'"
     ]
    }
   ],
   "source": [
    "class Temperature:\n",
    "    def __init__(self, kelvin=None, celcius=None):\n",
    "        if kelvin is not None:\n",
    "             self.kelvin = kelvin\n",
    "        else:\n",
    "            self.celcius = celcius\n",
    "\n",
    "    @property\n",
    "    def kelvin(self):\n",
    "        return self._kelvin\n",
    "\n",
    "    @kelvin.setter\n",
    "    def kelvin(self, kelvin):\n",
    "        self._kelvin = kelvin\n",
    "    \n",
    "    @property\n",
    "    def celcius(self):\n",
    "        return self._kelvin - 273.15\n",
    "\n",
    "    @celcius.setter\n",
    "    def celcius(self, celcius):\n",
    "        self._kelvin = celcius + 273.15\n",
    "    \n",
    "    def __repr__(self):\n",
    "        return f\"kelvin= {self.kelvin}, celcius = {self.celcius}\"\n",
    "    \n",
    "    def __add__(self, other):\n",
    "        if type(other) not in [float, int, Temperature]:\n",
    "            raise TypeError(\"oj, nåt gick fel\")\n",
    "            \n",
    "    \n",
    "\n",
    "    \n",
    "\n",
    "\n",
    "t1 = Temperature()\n",
    "t2 = Temperature(celcius=5)\n",
    "\n",
    "repr(t1)\n",
    "\n"
   ]
  }
 ],
 "metadata": {
  "kernelspec": {
   "display_name": "Python 3",
   "language": "python",
   "name": "python3"
  },
  "language_info": {
   "codemirror_mode": {
    "name": "ipython",
    "version": 3
   },
   "file_extension": ".py",
   "mimetype": "text/x-python",
   "name": "python",
   "nbconvert_exporter": "python",
   "pygments_lexer": "ipython3",
   "version": "3.11.5"
  },
  "orig_nbformat": 4
 },
 "nbformat": 4,
 "nbformat_minor": 2
}
