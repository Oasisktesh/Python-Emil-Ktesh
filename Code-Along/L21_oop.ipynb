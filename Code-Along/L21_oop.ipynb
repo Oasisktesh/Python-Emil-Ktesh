{
 "cells": [
  {
   "cell_type": "code",
   "execution_count": 10,
   "metadata": {},
   "outputs": [],
   "source": [
    "\n",
    "class Student:\n",
    "   def __init__(self, name, grade):\n",
    "    self.grade = grade\n",
    "    self.name = name\n",
    "\n",
    "   def set_grade(self, grade):\n",
    "        self.grade = grade"
   ]
  },
  {
   "cell_type": "code",
   "execution_count": 11,
   "metadata": {},
   "outputs": [
    {
     "name": "stdout",
     "output_type": "stream",
     "text": [
      "{'grade': 3.6, 'name': 'emil'}\n",
      "{'grade': 4.5, 'name': 'lena'}\n",
      "\n",
      "{'grade': 3.8, 'name': 'emil', 'age': 19}\n",
      "{'grade': 5.0, 'name': 'lena', 'age': 'cougar'}\n"
     ]
    }
   ],
   "source": [
    "student_a = Student(\"emil\", 3.6)\n",
    "student_b = Student(\"lena\", 4.5)\n",
    "\n",
    "print(student_a.__dict__)\n",
    "print(student_b.__dict__)\n",
    "\n",
    "student_a.set_grade(3.8)\n",
    "student_b.set_grade(5.0)\n",
    "student_a.age = 19\n",
    "student_b.age = \"cougar\"\n",
    "\n",
    "print()\n",
    "print(student_a.__dict__)\n",
    "print(student_b.__dict__)\n",
    "\n",
    "\n",
    "\n"
   ]
  },
  {
   "cell_type": "code",
   "execution_count": 13,
   "metadata": {},
   "outputs": [],
   "source": [
    "class Cat:\n",
    "    def __init__(self, name, age):\n",
    "        self.name = name\n",
    "        self.age = age\n",
    "             \n",
    "    def greet(self, other): \n",
    "        print(f\"\\nhi {other.name}, my name is {self.name},\") \n",
    "        if other.age > self.age:\n",
    "          print(f\"{firstprint}and iam {other.age - self.age} younger than you.\")\n",
    "        elif other.age == self.age:\n",
    "          print(f\"and iam the same age as you.\")\n",
    "        else:\n",
    "          print(f\"and iam {self.age - other.age} older than you.\")\n",
    " \n",
    "\n",
    "    def mybestfriend(self):\n",
    "       print(f\"hi my name is {self.name}, and my best friend is {self.bestfriend}.\")\n",
    "\n",
    "\n",
    "    def print_best_friend(self):\n",
    "        if not hasattr(self, \"bestfriend\"): return\n",
    "        if self.bestfriend is None: return\n",
    "        print(f\"\\nmy name is {self.name} and my best friend is {self.bestfriend}.\")\n",
    "\n"
   ]
  },
  {
   "cell_type": "code",
   "execution_count": 59,
   "metadata": {},
   "outputs": [
    {
     "name": "stdout",
     "output_type": "stream",
     "text": [
      "\n",
      "my name is binky and my best friend is mjau.\n",
      "\n",
      "my name is lexi and my best friend is lexi.\n",
      "\n",
      "my name is mjau and my best friend is binky.\n",
      "\n",
      "hi binky, my name is lexi,\n",
      "and iam 1 older than you.\n",
      "\n",
      "hi binky, my name is mjau,\n",
      "and iam 2 older than you.\n",
      "\n",
      "hi binky, my name is heyo,\n",
      "and iam the same age as you.\n"
     ]
    }
   ],
   "source": [
    "my_cat = Cat(\"binky\", 3)\n",
    "my_other_cat = Cat(\"lexi\", 4)\n",
    "my_third_cat = Cat(\"mjau\", 5)\n",
    "my_fourth_cat = Cat(\"heyo\", 3)\n",
    "\n",
    "my_cat.bestfriend = my_third_cat.name \n",
    "my_other_cat.bestfriend = my_other_cat.name\n",
    "my_third_cat.bestfriend = my_cat.name\n",
    "my_fourth_cat.bestfriend = None\n",
    "\n",
    "cats =[my_cat, my_other_cat, my_third_cat, my_fourth_cat]\n",
    "\n",
    "for cat in cats:\n",
    "    cat.print_best_friend()\n",
    "    \n",
    "for cat in cats[1:]:\n",
    "\n",
    "    cat.greet(my_cat)\n",
    "      \n",
    "    \n",
    "\n",
    "\n"
   ]
  },
  {
   "cell_type": "code",
   "execution_count": 14,
   "metadata": {},
   "outputs": [
    {
     "name": "stdout",
     "output_type": "stream",
     "text": [
      "4\n"
     ]
    }
   ],
   "source": [
    "student = Student(\"emil\", 4.3)\n",
    "\n",
    "student.pet = Cat(\"Lexi\", 4)\n",
    "\n",
    "print(student.pet.age)"
   ]
  }
 ],
 "metadata": {
  "kernelspec": {
   "display_name": "Python 3",
   "language": "python",
   "name": "python3"
  },
  "language_info": {
   "codemirror_mode": {
    "name": "ipython",
    "version": 3
   },
   "file_extension": ".py",
   "mimetype": "text/x-python",
   "name": "python",
   "nbconvert_exporter": "python",
   "pygments_lexer": "ipython3",
   "version": "3.11.5"
  },
  "orig_nbformat": 4
 },
 "nbformat": 4,
 "nbformat_minor": 2
}
