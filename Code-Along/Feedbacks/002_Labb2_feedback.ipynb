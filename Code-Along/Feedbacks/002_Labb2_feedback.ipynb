{
 "cells": [
  {
   "cell_type": "markdown",
   "metadata": {},
   "source": [
    "# Do's and dont's\n",
    "Ways to improve code readabilty. Examples are based upon observations from labb 2 submissions."
   ]
  },
  {
   "cell_type": "markdown",
   "metadata": {},
   "source": [
    "### Do not:"
   ]
  },
  {
   "cell_type": "code",
   "execution_count": 4,
   "metadata": {},
   "outputs": [],
   "source": [
    "if is_pikachu == True:\n",
    "    ...\n"
   ]
  },
  {
   "cell_type": "markdown",
   "metadata": {},
   "source": [
    "#### Instead do:"
   ]
  },
  {
   "cell_type": "code",
   "execution_count": null,
   "metadata": {},
   "outputs": [],
   "source": [
    "if is_pikachu:\n",
    "    ..."
   ]
  },
  {
   "cell_type": "markdown",
   "metadata": {},
   "source": [
    "### Do not:"
   ]
  },
  {
   "cell_type": "code",
   "execution_count": 5,
   "metadata": {},
   "outputs": [],
   "source": [
    "point1 = (24, 31)\n",
    "point2 = (25, 30.5)\n",
    "point3 = (24.5, 32.2)\n",
    "point4 = (26, 29)"
   ]
  },
  {
   "cell_type": "markdown",
   "metadata": {},
   "source": [
    "#### Instead do:"
   ]
  },
  {
   "cell_type": "code",
   "execution_count": 6,
   "metadata": {},
   "outputs": [
    {
     "name": "stdout",
     "output_type": "stream",
     "text": [
      "[(24, 31), (25, 30.5), (24.5, 32.2), (26, 29)]\n"
     ]
    }
   ],
   "source": [
    "points = []\n",
    "points.append(point1)\n",
    "points.append(point2)\n",
    "points.append(point3)\n",
    "points.append(point4)\n",
    "print(points)\n"
   ]
  },
  {
   "cell_type": "markdown",
   "metadata": {},
   "source": [
    "### Do not:"
   ]
  },
  {
   "cell_type": "code",
   "execution_count": null,
   "metadata": {},
   "outputs": [],
   "source": [
    "pichu = []\n",
    "pika = []\n",
    "pichu_width = []\n",
    "pichu_height = []\n",
    "pika_width = []\n",
    "pika_height = []\n",
    "pichu_label = []\n",
    "pika_label = []\n",
    "...\n",
    "..."
   ]
  },
  {
   "cell_type": "markdown",
   "metadata": {},
   "source": [
    "#### Instead do:"
   ]
  },
  {
   "cell_type": "code",
   "execution_count": null,
   "metadata": {},
   "outputs": [],
   "source": []
  },
  {
   "cell_type": "markdown",
   "metadata": {},
   "source": [
    "### Do not:"
   ]
  },
  {
   "cell_type": "code",
   "execution_count": null,
   "metadata": {},
   "outputs": [],
   "source": [
    "line = file_rows(\"datapoints.txt\")\n",
    "\n",
    "for i in line:\n",
    "    removeNewline = i.replace(\"\\n\", \"\")\n",
    "    ..."
   ]
  },
  {
   "cell_type": "markdown",
   "metadata": {},
   "source": [
    "#### Instead do:"
   ]
  },
  {
   "cell_type": "code",
   "execution_count": 13,
   "metadata": {},
   "outputs": [
    {
     "ename": "NameError",
     "evalue": "name 'read_textfile' is not defined",
     "output_type": "error",
     "traceback": [
      "\u001b[1;31m---------------------------------------------------------------------------\u001b[0m",
      "\u001b[1;31mNameError\u001b[0m                                 Traceback (most recent call last)",
      "\u001b[1;32mc:\\Users\\diana\\OneDrive\\Dokument\\Python-Emil-Ktesh\\Code-Along\\Feedbacks\\002_Labb2_feedback.ipynb Cell 17\u001b[0m line \u001b[0;36m1\n\u001b[1;32m----> <a href='vscode-notebook-cell:/c%3A/Users/diana/OneDrive/Dokument/Python-Emil-Ktesh/Code-Along/Feedbacks/002_Labb2_feedback.ipynb#X22sZmlsZQ%3D%3D?line=0'>1</a>\u001b[0m rows \u001b[39m=\u001b[39m read_textfile(\u001b[39m\"\u001b[39m\u001b[39mdatapoints.txt\u001b[39m\u001b[39m\"\u001b[39m, \u001b[39m\"\u001b[39m\u001b[39mr\u001b[39m\u001b[39m\"\u001b[39m)\n\u001b[0;32m      <a href='vscode-notebook-cell:/c%3A/Users/diana/OneDrive/Dokument/Python-Emil-Ktesh/Code-Along/Feedbacks/002_Labb2_feedback.ipynb#X22sZmlsZQ%3D%3D?line=2'>3</a>\u001b[0m \u001b[39mfor\u001b[39;00m row \u001b[39min\u001b[39;00m rows:\n\u001b[0;32m      <a href='vscode-notebook-cell:/c%3A/Users/diana/OneDrive/Dokument/Python-Emil-Ktesh/Code-Along/Feedbacks/002_Labb2_feedback.ipynb#X22sZmlsZQ%3D%3D?line=3'>4</a>\u001b[0m     row \u001b[39m=\u001b[39m row\u001b[39m.\u001b[39mreplace(\u001b[39m\"\u001b[39m\u001b[39m\\n\u001b[39;00m\u001b[39m\"\u001b[39m, \u001b[39m\"\u001b[39m\u001b[39m\"\u001b[39m)\n",
      "\u001b[1;31mNameError\u001b[0m: name 'read_textfile' is not defined"
     ]
    }
   ],
   "source": [
    "rows = read_textfile(\"datapoints.txt\", \"r\")\n",
    "\n",
    "for row in rows:\n",
    "    row = row.replace(\"\\n\", \"\") \n",
    "    ..."
   ]
  },
  {
   "cell_type": "markdown",
   "metadata": {},
   "source": [
    "### Do not:"
   ]
  },
  {
   "cell_type": "code",
   "execution_count": null,
   "metadata": {},
   "outputs": [],
   "source": [
    "# Tar in bredd och höjd från användaren.\n",
    "def be_användaren_om_bredd_och_höjd():\n",
    "    bredd = input(\"Mata in bredd: \")\n",
    "    höjd = input(\"Mata in höjd: \")\n",
    "    return (bredd, höjd)"
   ]
  },
  {
   "cell_type": "markdown",
   "metadata": {},
   "source": [
    "#### Instead do:"
   ]
  },
  {
   "cell_type": "code",
   "execution_count": null,
   "metadata": {},
   "outputs": [],
   "source": [
    "def ask_user_for_width_height():\n",
    "    width = input(\"input the width: \")\n",
    "    height = input(\"input the height: \")\n",
    "    return (width, height)"
   ]
  },
  {
   "cell_type": "markdown",
   "metadata": {},
   "source": [
    "### Do not:"
   ]
  },
  {
   "cell_type": "code",
   "execution_count": null,
   "metadata": {},
   "outputs": [],
   "source": [
    "if pokemons[0][1] == datapoints[2][0][1]:\n",
    "    ..."
   ]
  },
  {
   "cell_type": "markdown",
   "metadata": {},
   "source": [
    "#### Instead do:"
   ]
  },
  {
   "cell_type": "code",
   "execution_count": null,
   "metadata": {},
   "outputs": [],
   "source": [
    "if pokemons[\"pichus\"][\"width\"] == datapoints [\"pokemon\"]"
   ]
  },
  {
   "cell_type": "markdown",
   "metadata": {},
   "source": [
    "istället för att lägga allt i en lista ändra dom till dictionaries.\n"
   ]
  },
  {
   "cell_type": "markdown",
   "metadata": {},
   "source": [
    "### Do not:"
   ]
  },
  {
   "cell_type": "code",
   "execution_count": null,
   "metadata": {},
   "outputs": [],
   "source": [
    "width = 24.0\n",
    "height = 32.5\n",
    "label = 1\n",
    "\n",
    "pokemon = [width, height, label]"
   ]
  },
  {
   "cell_type": "markdown",
   "metadata": {},
   "source": [
    "#### Instead do:"
   ]
  },
  {
   "cell_type": "markdown",
   "metadata": {},
   "source": [
    "## instand\n",
    "- Avoid lists"
   ]
  },
  {
   "cell_type": "markdown",
   "metadata": {},
   "source": [
    "### Do not:"
   ]
  },
  {
   "cell_type": "code",
   "execution_count": null,
   "metadata": {},
   "outputs": [],
   "source": [
    "def classify_point(point, training_data):\n",
    "    ..."
   ]
  },
  {
   "cell_type": "markdown",
   "metadata": {},
   "source": [
    "#### Instead do:"
   ]
  },
  {
   "cell_type": "code",
   "execution_count": null,
   "metadata": {},
   "outputs": [],
   "source": []
  },
  {
   "cell_type": "markdown",
   "metadata": {},
   "source": [
    "### Do not:"
   ]
  },
  {
   "cell_type": "code",
   "execution_count": null,
   "metadata": {},
   "outputs": [],
   "source": [
    "def euclidean_distance(x1, y1, x2, y2):\n",
    "    # Calculate distance\n",
    "    distance = math.sqrt((x2 - x1)**2 + (y2 - y1)**2)\n",
    "    return distance"
   ]
  },
  {
   "cell_type": "markdown",
   "metadata": {},
   "source": [
    "#### Instead do:"
   ]
  },
  {
   "cell_type": "code",
   "execution_count": null,
   "metadata": {},
   "outputs": [],
   "source": [
    "def euclidean_distance(x1, y1, x2, y2):\n",
    "    return math.sqrt((x2 - x1)**2 + (y2 - y1)**2)\n",
    "    "
   ]
  },
  {
   "cell_type": "markdown",
   "metadata": {},
   "source": [
    "### Do not:"
   ]
  },
  {
   "cell_type": "code",
   "execution_count": null,
   "metadata": {},
   "outputs": [],
   "source": [
    "dp = load(\"datapoints\")\n",
    "\n",
    "poke_list = []\n",
    "\n",
    "for p in dp:\n",
    "    poke_list.append({\"w\": p[0], \"h\": p[1]})\n",
    "\n",
    "poke_srt = sorted(poke_list)"
   ]
  },
  {
   "cell_type": "markdown",
   "metadata": {},
   "source": [
    "#### Instead do:"
   ]
  },
  {
   "cell_type": "code",
   "execution_count": null,
   "metadata": {},
   "outputs": [],
   "source": [
    "data_point = read(\"datapoints\")\n",
    "\n",
    "pokemons = []\n",
    "\n",
    "for point in data_point:\n",
    "    pokemon_list.append(\"width\": Pokemon[0], \"height\": Pokemon[1], \"label\": Pokemon[2])\n",
    "\n",
    "sorted_pokemons = sorted(pokemons)"
   ]
  },
  {
   "cell_type": "markdown",
   "metadata": {},
   "source": [
    "### Do not:"
   ]
  },
  {
   "cell_type": "code",
   "execution_count": null,
   "metadata": {},
   "outputs": [],
   "source": [
    "random.shuffle(pichus)\n",
    "random.shuffle(pikachus)\n",
    "\n",
    "new_pichu_training_data = []\n",
    "new_pikachu_training_data = []\n",
    "new_pichu_test_data = []\n",
    "new_pikachu_test_data = []\n",
    "\n",
    "# Append Pichus to new training data and test data\n",
    "for pichu in pichus:\n",
    "    if len(new_pichu_training_data) < 50:\n",
    "        new_pichu_training_data.append(pichu)\n",
    "    else:\n",
    "        new_pichu_test_data.append(pichu)\n",
    "\n",
    "# Append Pikachus to new training data and test data\n",
    "for pikachu in pikachus:\n",
    "    if len(new_pikachu_training_data) < 50:\n",
    "        new_pikachu_training_data.append(pikachu)\n",
    "    else:\n",
    "        new_pikachu_test_data.append(pikachu)\n",
    "\n",
    "new_training_data = new_pichu_training_data + new_pikachu_training_data\n",
    "new_test_data = new_pichu_test_data + new_pikachu_test_data"
   ]
  },
  {
   "cell_type": "markdown",
   "metadata": {},
   "source": [
    "#### Instead do:"
   ]
  },
  {
   "cell_type": "code",
   "execution_count": null,
   "metadata": {},
   "outputs": [],
   "source": [
    "random.shuffle(pichus)\n",
    "random.shuffle(pikachus)\n",
    "\n",
    "training_data = pichu[:50] + pikatchus[:50]\n"
   ]
  },
  {
   "cell_type": "markdown",
   "metadata": {},
   "source": [
    "### Do not:"
   ]
  },
  {
   "cell_type": "code",
   "execution_count": null,
   "metadata": {},
   "outputs": [],
   "source": [
    "TP = 0\n",
    "FP = 0\n",
    "TN = 0\n",
    "FN = 0\n",
    "\n",
    "# For loop to classify each test point and update counts (TP, TN, FP, FN)\n",
    "for actual_label, predicted_label in results:\n",
    "    \n",
    "    if actual_label == \"Pikachu\":\n",
    "        if predicted_label == \"Pikachu\":\n",
    "            TP += 1\n",
    "        else:\n",
    "            FP += 1\n",
    "    else:\n",
    "        if predicted_label == \"Pichu\":\n",
    "            TN += 1\n",
    "        else:\n",
    "            FN += 1\n",
    "    \n",
    "total = TP + TN + FP + FN\n",
    "accuracy = (TP + TN) / total"
   ]
  },
  {
   "cell_type": "markdown",
   "metadata": {},
   "source": [
    "#### Instead do:"
   ]
  },
  {
   "cell_type": "code",
   "execution_count": null,
   "metadata": {},
   "outputs": [],
   "source": []
  },
  {
   "cell_type": "markdown",
   "metadata": {},
   "source": [
    "### Do not:"
   ]
  },
  {
   "cell_type": "code",
   "execution_count": null,
   "metadata": {},
   "outputs": [],
   "source": [
    "def classify_point(point, training_data):\n",
    "    \n",
    "    # Get a list with all distances from the test point to each training point\n",
    "    distances = []\n",
    "\n",
    "    for training_point in training_data:\n",
    "        # Calculate the euclidian distance to current training point\n",
    "        distances.append(math.sqrt((training_point[0] - point[0])**2 + (training_point[1] - point[1])**2))\n",
    "\n",
    "    ..."
   ]
  }
 ],
 "metadata": {
  "kernelspec": {
   "display_name": "Learning_Python-3NYKqp0N",
   "language": "python",
   "name": "python3"
  },
  "language_info": {
   "codemirror_mode": {
    "name": "ipython",
    "version": 3
   },
   "file_extension": ".py",
   "mimetype": "text/x-python",
   "name": "python",
   "nbconvert_exporter": "python",
   "pygments_lexer": "ipython3",
   "version": "3.11.5"
  },
  "orig_nbformat": 4
 },
 "nbformat": 4,
 "nbformat_minor": 2
}
