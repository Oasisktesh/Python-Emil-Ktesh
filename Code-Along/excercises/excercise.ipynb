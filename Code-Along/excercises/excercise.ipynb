{
 "cells": [
  {
   "cell_type": "code",
   "execution_count": 1,
   "metadata": {},
   "outputs": [
    {
     "name": "stdout",
     "output_type": "stream",
     "text": [
      "e\n"
     ]
    }
   ],
   "source": [
    "frukter = [\"jordgubbe\", \"vindruva\", \"grape\"]\n",
    "# lägger en lista i variabeln frukter\n",
    "godfrukt = frukter[2]\n",
    "#väljer 3e frukten i frukter som är \"grape\"\n",
    "print(godfrukt[-1])\n",
    "#printar den sista bokstaven i godfrukt/\"grape\""
   ]
  },
  {
   "cell_type": "code",
   "execution_count": 3,
   "metadata": {},
   "outputs": [
    {
     "name": "stdout",
     "output_type": "stream",
     "text": [
      "6.283185307179586\n"
     ]
    }
   ],
   "source": [
    "import math\n",
    "\n",
    "def math_volym(radie=float, höjd=float):\n",
    "    return math.pi * radie**2 * höjd\n",
    "\n",
    "try:\n",
    "    radius = float(input(\"put the radius here\"))\n",
    "    height = float(input(\"put the height here\"))\n",
    "    print(math_volym(radius, height))\n",
    "\n",
    "except ValueError:\n",
    "    print(\"you must put a number\")\n",
    "\n",
    "\n",
    "\n"
   ]
  },
  {
   "cell_type": "code",
   "execution_count": 36,
   "metadata": {},
   "outputs": [
    {
     "name": "stdout",
     "output_type": "stream",
     "text": [
      "1: 166323\n",
      "2: 167625\n",
      "3: 166505\n",
      "4: 166807\n",
      "5: 166029\n",
      "6: 166711\n"
     ]
    }
   ],
   "source": [
    "import numpy as np\n",
    "\n",
    "träningskast = np.random.randint(1, 7, 1000000)\n",
    "\n",
    "counts = np.bincount(träningskast)\n",
    "\n",
    "for i, count in enumerate(counts[1:], start=1):\n",
    "    print(f\"{i}: {count}\")"
   ]
  },
  {
   "cell_type": "code",
   "execution_count": 12,
   "metadata": {},
   "outputs": [
    {
     "name": "stdout",
     "output_type": "stream",
     "text": [
      "1: 166526\n",
      "2: 166959\n",
      "3: 166225\n",
      "4: 166382\n",
      "5: 167166\n",
      "6: 166742\n"
     ]
    }
   ],
   "source": [
    "import numpy as np\n",
    "\n",
    "träningskast = np.random.randint(1, 7, 1000000)\n",
    "\n",
    "counts = np.bincount(träningskast)\n",
    "\n",
    "for i, count in enumerate(counts[1:], start=1):\n",
    "    print(f\"{i}: {count}\")"
   ]
  },
  {
   "cell_type": "code",
   "execution_count": 77,
   "metadata": {},
   "outputs": [
    {
     "name": "stdout",
     "output_type": "stream",
     "text": [
      "x x x x x x x \n",
      "x o x o x o x \n",
      "x x x x x x x \n",
      "x o x o x o x \n",
      "x x x x x x x \n",
      "x o x o x o x \n",
      "x x x x x x x \n"
     ]
    }
   ],
   "source": [
    "def print_my_pattern(n):\n",
    "    for rad in range(n):\n",
    "        for number_in_row in range(n):\n",
    "            if rad % 2 == 0 or number_in_row % 2 == 0:\n",
    "                print(\"x\", end=\" \")\n",
    "            else:\n",
    "                print(\"o\", end=\" \")\n",
    "            \n",
    "        print()\n",
    "        \n",
    "\n",
    "\n",
    "print_my_pattern(7)\n"
   ]
  },
  {
   "cell_type": "code",
   "execution_count": 84,
   "metadata": {},
   "outputs": [
    {
     "name": "stdout",
     "output_type": "stream",
     "text": [
      "du har 2 En_Kronor \n",
      "du har 3 TioKronor \n"
     ]
    }
   ],
   "source": [
    "kronor_typer = [\"Miljon_Kronor\" , \"Hundra_Tusen_Kronor\", \"Tio_Tusen_Kronor\", \"Tusen_Kronor\", \"Hundra_Kronor\", \"TioKronor\", \"En_Kronor\"]\n",
    "\n",
    "n = 32\n",
    "\n",
    "i = -1\n",
    "\n",
    "\n",
    "for number in range(len(y)):\n",
    "        print(f\"du har {y[i]} {kronor_typer[i]} \")\n",
    "        i += 1\n"
   ]
  },
  {
   "cell_type": "code",
   "execution_count": 172,
   "metadata": {},
   "outputs": [
    {
     "name": "stdout",
     "output_type": "stream",
     "text": [
      "Ada owns: Dogs: ['Snoopy', 'Pluto'], Fishs: ['Fishy', 'Buppy'] \n",
      "Beda owns: Dogs: ['Barkly'], Fishs: None \n"
     ]
    },
    {
     "ename": "",
     "evalue": "",
     "output_type": "error",
     "traceback": [
      "\u001b[1;31mThe Kernel crashed while executing code in the the current cell or a previous cell. Please review the code in the cell(s) to identify a possible cause of the failure. Click <a href='https://aka.ms/vscodeJupyterKernelCrash'>here</a> for more info. View Jupyter <a href='command:jupyter.viewOutput'>log</a> for further details."
     ]
    }
   ],
   "source": [
    "class Animal:\n",
    "    def __init__(self, name):\n",
    "       self.name = name\n",
    "\n",
    "    def __str__(self):\n",
    "       return f\"Animal {self.name}\"\n",
    "\n",
    "class Dog(Animal):\n",
    " # notera att __init__ är nedärvd\n",
    "\n",
    "    def __repr__(self):\n",
    "       return f\"Dogs: {self.name}\"\n",
    "\n",
    "class Fish(Animal):\n",
    "    def __repr__(self):\n",
    "       return f\"Fishs: {self.name}\"\n",
    "# TO-DO: implementera PetOwner\n",
    "\n",
    "class PetOwner(Animal):\n",
    "    def __init__(self, owner, dogs=\"None\", fishs=\"None\"):\n",
    "        self.owner = f\"{owner} owns:\"\n",
    "        self.dogs = Dog(dogs)\n",
    "        self.fishs = Fish(fishs)        \n",
    "    \n",
    "    def __str__(self):\n",
    "        return f\"{self.owner} {self.dogs.__repr__()}, {self.fishs.__repr__()} \"\n",
    "\n",
    "\n",
    "  \n",
    "\n",
    "# manuell test av PetOwner\n",
    "owner1 = PetOwner(\"Ada\",[\"Snoopy\", \"Pluto\"], [\"Fishy\", \"Buppy\"])\n",
    "owner2 = PetOwner(\"Beda\", [\"Barkly\"] )\n",
    "print(owner1)\n",
    "print(owner2)"
   ]
  }
 ],
 "metadata": {
  "kernelspec": {
   "display_name": "Python 3",
   "language": "python",
   "name": "python3"
  },
  "language_info": {
   "codemirror_mode": {
    "name": "ipython",
    "version": 3
   },
   "file_extension": ".py",
   "mimetype": "text/x-python",
   "name": "python",
   "nbconvert_exporter": "python",
   "pygments_lexer": "ipython3",
   "version": "3.11.6"
  }
 },
 "nbformat": 4,
 "nbformat_minor": 2
}
