{
 "cells": [
  {
   "cell_type": "markdown",
   "metadata": {},
   "source": [
    "# OOP introductory exercises\n",
    "\n",
    "---\n",
    "These are introductory exercises in Python with focus in **Object oriented programming**.\n",
    "\n",
    "<p class = \"alert alert-info\" role=\"alert\"><b>Remember</b> to use <b>descriptive variable, function and class names</b> in order to get readable code </p>\n",
    "\n",
    "<p class = \"alert alert-info\" role=\"alert\"><b>Remember</b> to format your answers in a neat way using <b>f-strings</b></p>\n",
    "\n",
    "The number of stars (\\*), (\\*\\*), (\\*\\*\\*) denotes the difficulty level of the task\n",
    "\n",
    "---"
   ]
  },
  {
   "cell_type": "markdown",
   "metadata": {},
   "source": [
    "## 1. Step tracker\n",
    "\n",
    "Create a class that can be used as a step tracker. It should have a property \"steps\" that is read only; a method step() that increases \"steps\" by 1 each time it is called; and a method reset() that resets the counter.\n",
    "\n",
    "Instantiate the class, and write a loop that simulates walking 1000 steps. Then print the value of \"steps\"."
   ]
  },
  {
   "cell_type": "code",
   "execution_count": 63,
   "metadata": {},
   "outputs": [
    {
     "data": {
      "text/plain": [
       "1000"
      ]
     },
     "execution_count": 63,
     "metadata": {},
     "output_type": "execute_result"
    }
   ],
   "source": [
    "class Steptracker:\n",
    "    def __init__(self):\n",
    "         self._steps = 0\n",
    "\n",
    "\n",
    "    @property\n",
    "    def steps(self):\n",
    "         return self._steps\n",
    "\n",
    "    def step(self):\n",
    "         self._steps += 1\n",
    "\n",
    "    def reset(self):\n",
    "        self._steps = 0\n",
    "    \n",
    "Mytracker = Steptracker()\n",
    "\n",
    "\n",
    "for number in range(1000):\n",
    "    Mytracker.step()\n",
    "\n",
    "Mytracker.steps\n",
    "\n"
   ]
  },
  {
   "cell_type": "code",
   "execution_count": 65,
   "metadata": {},
   "outputs": [
    {
     "data": {
      "text/plain": [
       "0"
      ]
     },
     "execution_count": 65,
     "metadata": {},
     "output_type": "execute_result"
    }
   ],
   "source": [
    "Mytracker.steps\n",
    "\n",
    "Mytracker.reset()\n",
    "\n",
    "Mytracker.steps"
   ]
  },
  {
   "cell_type": "markdown",
   "metadata": {},
   "source": [
    "---\n",
    "## 2. Empty/full glass simulator (*)\n",
    "\n",
    "Create a class that represents a glass of water. It should have a method for filling the glass, and another method for emptying the glass. Also, there needs to be an internal/private attribute that keeps track of if the glass is empty or full. Depending on the current state (empty/full), the method that fills the glass should print either \"Filling the glass with water\" or \"The glass is already full\". The other method should print either \"Emptying the glass\" or \"The glass is already empty\".\n",
    "\n",
    "**Additional exercise:** Add another method to break the glass. Every glass (instance) keeps track of it's internal state, and prints what happens when the different methods are executed. Eg. \"The glass breaks. Now there is water all over the floor\", or \"The glass can not be filled, since it's broken\", etc."
   ]
  },
  {
   "cell_type": "code",
   "execution_count": 19,
   "metadata": {},
   "outputs": [
    {
     "name": "stdout",
     "output_type": "stream",
     "text": [
      "\n",
      "your glass is already empty\n",
      "\n",
      "filling the glass.\n",
      "\n",
      "your glass is filled\n"
     ]
    }
   ],
   "source": [
    "class Glass:\n",
    "    def __init__(self):\n",
    "        self.glass = False\n",
    "\n",
    "    @property\n",
    "    def fill(self):\n",
    "        if self.glass is True:\n",
    "            print(\"\\nyour glass is already filled\")\n",
    "        else:\n",
    "            self.glass = True\n",
    "            print(\"\\nfilling the glass.\")\n",
    "    \n",
    "\n",
    "    @property\n",
    "    def empty(self):\n",
    "        if self.glass is False:\n",
    "            print(\"\\nyour glass is already empty\")\n",
    "        else:\n",
    "            self.glass = False\n",
    "            print(\"\\nemptying your glass\")\n",
    "\n",
    "    @property\n",
    "    def glass_tracker(self):\n",
    "        if self.glass is True:\n",
    "            print(\"\\nyour glass is filled\")\n",
    "        else:\n",
    "            print(\"\\nyour glass is empty\")\n",
    "\n",
    "\n",
    "\n",
    "\n",
    "My_glass = Glass()\n",
    "\n",
    "My_glass.empty\n",
    "\n",
    "My_glass.fill\n",
    "\n",
    "My_glass.glass_tracker"
   ]
  },
  {
   "cell_type": "markdown",
   "metadata": {},
   "source": [
    "---\n",
    "## 3. Red and blue (*)\n",
    "\n",
    "Create a class that has a property \"red\", and a property \"blue\". Both should be floats, and be able to take any value between 0.0 and 100.0. However, they should be \"linked\" in such a way that the sum of \"red\" and \"blue\" always is 100.0. i.e. if we set the value of \"blue\" to 8.5, and then read the value of \"red\", it should return 91.5"
   ]
  },
  {
   "cell_type": "code",
   "execution_count": 48,
   "metadata": {},
   "outputs": [
    {
     "data": {
      "text/plain": [
       "'Red = 8.5 Blue = 91.5:  Red + Blue =100.0'"
      ]
     },
     "execution_count": 48,
     "metadata": {},
     "output_type": "execute_result"
    }
   ],
   "source": [
    "class Colours:\n",
    "    \n",
    "    def __init__(self, red=float, blue=None):\n",
    "       self.red = red\n",
    "       self.blue = blue\n",
    "\n",
    "\n",
    "    @property\n",
    "    def red(self):\n",
    "        return self._red\n",
    "\n",
    "    @red.setter\n",
    "    def red(self, red):\n",
    "            self._red = float(red)\n",
    "            if self._red <0:\n",
    "                raise Exception(\" no negative numbers please retry\")\n",
    "            elif self._red >100:\n",
    "                raise Exception(\" no numbers above 100 please retry\")\n",
    "\n",
    "\n",
    "    @property\n",
    "    def blue(self):\n",
    "        return self._blue\n",
    "    \n",
    "    @blue.setter\n",
    "    def blue(self, blue):\n",
    "        self._blue = 100.0\n",
    "    \n",
    "    \n",
    "    @property\n",
    "    def sum(self):\n",
    "        self._blue = (self._blue - self._red)\n",
    "        return f\"Red = {self.red} Blue = {self._blue}:  Red + Blue ={self._blue + self.red}\"\n",
    "\n",
    "\n",
    "colour_1 = Colours(4)\n",
    "\n",
    "colour_1.red = 8.5\n",
    "\n",
    "colour_1.sum"
   ]
  },
  {
   "cell_type": "markdown",
   "metadata": {},
   "source": [
    "---\n",
    "## 4. One thousand cars (*)\n",
    "\n",
    "Create a class that represents a car. Every car can have a color and a length. When a new car is instantiated it gets a random color, and a random length (between 3 and 5 meters). Instatiate 1000 cars a save them in a list. Then print the sum of the length of all green cars in the list."
   ]
  },
  {
   "cell_type": "code",
   "execution_count": 241,
   "metadata": {},
   "outputs": [],
   "source": [
    "import random\n",
    "import numpy as np\n",
    "\n",
    "class Car():\n",
    "    \n",
    "    def __init__(self, color,length):\n",
    "        self.color = random.choice(all_colors)\n",
    "        self.length = random.choice(all_lengths)\n",
    "    \n",
    "    @property\n",
    "    def color(self):\n",
    "        return self._color\n",
    "    \n",
    "    @color.setter\n",
    "    def color(self, color):\n",
    "        self._color = color\n",
    "          \n",
    "    @property\n",
    "    def length(self):\n",
    "        return self._length\n",
    "    \n",
    "    @length.setter\n",
    "    def length(self, length):\n",
    "        self._length = length\n",
    "    \n",
    "\n",
    "        \n",
    "\n",
    "\n",
    "all_lengths = np.arange(3, 5.1, 0.1)\n",
    "\n",
    "all_colors = ['green', 'orange', 'blue', 'red', 'yellow', 'black','purple','lime','white','gray']\n",
    "\n",
    "cars = []\n",
    "\n",
    "green_cars_lengths = []\n",
    "\n",
    "\n",
    "for car in range(1000):\n",
    "    cars.append(Car(\"\",None))\n",
    "\n",
    "for car in cars:\n",
    "    if car.color == \"green\":\n",
    "        green_cars_lengths.append(round(car.length, 1))\n"
   ]
  },
  {
   "cell_type": "code",
   "execution_count": 244,
   "metadata": {},
   "outputs": [
    {
     "name": "stdout",
     "output_type": "stream",
     "text": [
      "[4.9, 3.7, 3.2, 4.8, 3.9, 3.7, 3.8, 4.7, 3.2, 4.9, 4.8, 3.5, 3.1, 3.2, 3.9, 4.4, 5.0, 4.9, 4.7, 3.9, 4.9, 3.6, 4.3, 3.2, 3.6, 4.9, 4.0, 3.4, 3.9, 4.0, 4.3, 5.0, 4.7, 3.0, 3.4, 3.6, 4.5, 3.5, 3.8, 4.7, 4.7, 3.7, 3.8, 4.0, 4.9, 5.0, 4.9, 4.8, 4.4, 3.0, 5.0, 4.7, 3.5, 4.9, 3.2, 4.1, 3.5, 4.3, 4.8, 4.2, 3.6, 3.8, 3.9, 3.8, 3.1, 3.8, 5.0, 4.7, 3.3, 3.1, 3.6, 4.6, 3.8, 4.1, 4.3, 4.0, 4.8, 3.9, 4.2, 3.5, 4.7, 3.7, 3.3, 3.0, 3.2, 3.7, 3.5, 4.2, 4.1, 4.0, 5.0, 3.8, 3.6, 4.3, 4.4, 3.7, 5.0, 4.4, 4.9, 3.2, 4.0, 3.0, 3.5, 4.3, 4.5, 4.1, 5.0, 3.9, 3.7, 4.9, 3.6, 3.1, 3.5, 5.0, 5.0, 4.4, 4.6, 4.7, 4.4, 4.2, 4.7, 4.1, 3.8, 4.3, 4.9, 4.6, 3.3]\n"
     ]
    }
   ],
   "source": [
    "print(green_cars_lengths)"
   ]
  },
  {
   "cell_type": "markdown",
   "metadata": {},
   "source": [
    "---\n",
    "## 5. Email (**)\n",
    "\n",
    "Create an email class with a property \"address\". When we set this property it should validate that we gave it a proper email address by checking that it contains one or more letter, followed by an at-sign (@), followed by one or more letter, then a dot (.), then at least to letters.\n",
    "\n",
    "We should also be able to provide the address directly, when creating an new instance of the class (it must still be validated).\n",
    "\n",
    "The class should also have the following properties: \"username\", \"domainname\", and \"topdomain\" implemented in such a way that, if we set the address to \"fredrik@everyloop.com\", the username should read \"fredrik\", the domainname should read \"everyloop.com\", and the topdomain should read \"com\".\n",
    "\n",
    "When changing any of the four properties, all the others must be updated accordingly; and the address must always remain valid."
   ]
  },
  {
   "cell_type": "markdown",
   "metadata": {},
   "source": [
    "---\n",
    "\n",
    "Fredrik Johansson\n",
    "\n",
    "[everyloop.com](https://www.everyloop.com)\n",
    "\n",
    "---"
   ]
  }
 ],
 "metadata": {
  "kernelspec": {
   "display_name": "Python 3.9.6 64-bit",
   "language": "python",
   "name": "python3"
  },
  "language_info": {
   "codemirror_mode": {
    "name": "ipython",
    "version": 3
   },
   "file_extension": ".py",
   "mimetype": "text/x-python",
   "name": "python",
   "nbconvert_exporter": "python",
   "pygments_lexer": "ipython3",
   "version": "3.11.5"
  },
  "orig_nbformat": 4,
  "vscode": {
   "interpreter": {
    "hash": "0da836a34428266995a795f1e1e27b816fa1c02f148d9728b3fbbbc5459afca6"
   }
  }
 },
 "nbformat": 4,
 "nbformat_minor": 2
}
