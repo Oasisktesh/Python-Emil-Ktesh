{
 "cells": [
  {
   "cell_type": "code",
   "execution_count": 26,
   "metadata": {},
   "outputs": [
    {
     "data": {
      "text/plain": [
       "'lena emil'"
      ]
     },
     "execution_count": 26,
     "metadata": {},
     "output_type": "execute_result"
    }
   ],
   "source": [
    "class Cat:\n",
    "    def __init__(self, name, age):\n",
    "        self.name = name\n",
    "        self.age = age\n",
    "\n",
    "    \n",
    "    def __add__(self, other):\n",
    "        return (f\"{self.name} {other.name}\")\n",
    "       \n",
    "\n",
    "\n",
    "\n",
    "\n",
    "cat_a = Cat(\"lena\", 27)\n",
    "cat_b = Cat(\"emil\", 19)\n",
    "\n",
    "cat_a + cat_b"
   ]
  },
  {
   "cell_type": "code",
   "execution_count": 2,
   "metadata": {},
   "outputs": [
    {
     "data": {
      "text/plain": [
       "8"
      ]
     },
     "execution_count": 2,
     "metadata": {},
     "output_type": "execute_result"
    }
   ],
   "source": [
    "5 + 3"
   ]
  },
  {
   "cell_type": "code",
   "execution_count": 4,
   "metadata": {},
   "outputs": [
    {
     "data": {
      "text/plain": [
       "'hello world'"
      ]
     },
     "execution_count": 4,
     "metadata": {},
     "output_type": "execute_result"
    }
   ],
   "source": [
    "\"hello\" + \" world\""
   ]
  },
  {
   "cell_type": "code",
   "execution_count": 6,
   "metadata": {},
   "outputs": [
    {
     "data": {
      "text/plain": [
       "['kiwi', 'orange', 'melom.', 'lena']"
      ]
     },
     "execution_count": 6,
     "metadata": {},
     "output_type": "execute_result"
    }
   ],
   "source": [
    "[\"kiwi\", \"orange\", \"melom.\"] + [\"lena\"]"
   ]
  },
  {
   "cell_type": "code",
   "execution_count": 41,
   "metadata": {},
   "outputs": [
    {
     "ename": "IndentationError",
     "evalue": "expected an indented block after 'if' statement on line 31 (1886490722.py, line 38)",
     "output_type": "error",
     "traceback": [
      "\u001b[1;36m  Cell \u001b[1;32mIn[41], line 38\u001b[1;36m\u001b[0m\n\u001b[1;33m    t1 = Temperature(celcius=5)\u001b[0m\n\u001b[1;37m                               ^\u001b[0m\n\u001b[1;31mIndentationError\u001b[0m\u001b[1;31m:\u001b[0m expected an indented block after 'if' statement on line 31\n"
     ]
    }
   ],
   "source": [
    "class Temperature:\n",
    "    def __init__(self, kelvin=None, celcius=None):\n",
    "        if kelvin is not None:\n",
    "             self.kelvin = kelvin\n",
    "        else:\n",
    "            self.celcius = celcius\n",
    "\n",
    "    @property\n",
    "    def kelvin(self):\n",
    "        return self._kelvin\n",
    "\n",
    "    @kelvin.setter\n",
    "    def kelvin(self, kelvin):\n",
    "        self._kelvin = kelvin\n",
    "    \n",
    "    @property\n",
    "    def celcius(self):\n",
    "        return self._kelvin - 273.15\n",
    "\n",
    "    @celcius.setter\n",
    "    def celcius(self, celcius):\n",
    "        self._kelvin = celcius + 273.15\n",
    "    \n",
    "    def __repr__(self):\n",
    "        return f\"kelvin= {self.kelvin}, celcius = {self.celcius}\"\n",
    "    \n",
    "    def __add__(self, other):\n",
    "        if type(other) not in [float, int, Temperature]:\n",
    "            raise TypeError(\"oj, nåt gick fel\")\n",
    "\n",
    "        if type(other) is float or int:\n",
    "            \n",
    "    \n",
    "\n",
    "    \n",
    "\n",
    "\n",
    "t1 = Temperature(celcius=5)\n",
    "t2 = Temperature(celcius=5)\n",
    "\n",
    "repr(t1)\n",
    "\n",
    "t1 + 5 + t3"
   ]
  }
 ],
 "metadata": {
  "kernelspec": {
   "display_name": "Python 3",
   "language": "python",
   "name": "python3"
  },
  "language_info": {
   "codemirror_mode": {
    "name": "ipython",
    "version": 3
   },
   "file_extension": ".py",
   "mimetype": "text/x-python",
   "name": "python",
   "nbconvert_exporter": "python",
   "pygments_lexer": "ipython3",
   "version": "3.11.5"
  },
  "orig_nbformat": 4
 },
 "nbformat": 4,
 "nbformat_minor": 2
}
