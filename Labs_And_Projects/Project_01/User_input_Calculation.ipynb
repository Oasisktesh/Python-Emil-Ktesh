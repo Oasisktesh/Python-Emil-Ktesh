{
 "cells": [
  {
   "cell_type": "code",
   "execution_count": 9,
   "metadata": {},
   "outputs": [
    {
     "name": "stdout",
     "output_type": "stream",
     "text": [
      "\n",
      "First 5 training data points:\n",
      "(21.959384499160468, 31.23956701424158, 0)\n",
      "(23.63591632187622, 36.46821490673444, 1)\n",
      "(17.714056417303343, 31.44170391314962, 0)\n",
      "(21.78020031891186, 33.213397759738264, 1)\n",
      "(25.20630552859312, 36.558816149350534, 1)\n"
     ]
    }
   ],
   "source": [
    "#My 1st block Read and Process Training Data\n",
    "import sys\n",
    "import matplotlib.pyplot as plt\n",
    "import math\n",
    "\n",
    "training_data = []\n",
    "with open('datapointss.txt', 'r') as file:\n",
    "    for line in file:\n",
    "        values = line.strip().split(',')\n",
    "        try:\n",
    "            width = float(values[0])\n",
    "            height = float(values[1])\n",
    "            label = int(values[2])\n",
    "            training_data.append((width, height, label))\n",
    "        except:\n",
    "            print(\"\")\n",
    "\n",
    "\n",
    "# Print the first 5 training data points\n",
    "print(\"First 5 training data points:\")\n",
    "for point in training_data[:5]:\n",
    "    print(point)\n",
    "\n"
   ]
  },
  {
   "cell_type": "code",
   "execution_count": 10,
   "metadata": {},
   "outputs": [],
   "source": [
    "#My 2nd block: Read and Process Test Data\n",
    "test_data = []\n",
    "try:\n",
    "    input_width = float(input(\"Enter a float for width: \"))\n",
    "    input_height = float(input(\"Enter a float for height: \"))\n",
    "except ValueError:\n",
    "    print(\"Invalid input. Please enter numeric values.\")\n",
    "    sys.exit()\n",
    "\n",
    "# Making sure users width and input is a posetive value\n",
    "if input_width < 0 or input_height < 0:\n",
    "    print(\"Both width and height must be positive values.\")\n",
    "    sys.exit()\n",
    "\n"
   ]
  },
  {
   "cell_type": "code",
   "execution_count": 11,
   "metadata": {},
   "outputs": [
    {
     "data": {
      "image/png": "[encoded data removed]",
      "text/plain": [
       "<Figure size 640x480 with 1 Axes>"
      ]
     },
     "metadata": {},
     "output_type": "display_data"
    }
   ],
   "source": [
    "#My 3rd block: plot data with test point\n",
    "picatshu_plotted = False\n",
    "pishu_plotted = False\n",
    "\n",
    "for width, height, label in training_data:\n",
    "    if label == 1 and not picatshu_plotted:\n",
    "        plt.scatter(width, height, color='blue', label='Picatshu')\n",
    "        picatshu_plotted = True\n",
    "    elif label == 0 and not pishu_plotted:\n",
    "        plt.scatter(width, height, color='red', label='Pishu')\n",
    "        pishu_plotted = True\n",
    "    else:\n",
    "        plt.scatter(width, height, color='blue' if label == 1 else 'red')\n",
    "\n",
    "# Plot the test point\n",
    "plt.scatter(input_width, input_height, color='green', marker='x', label='Test Point')\n",
    "plt.xlabel('Width')\n",
    "plt.ylabel('Height')\n",
    "plt.legend()\n",
    "plt.grid(True)\n",
    "plt.show()\n",
    "\n"
   ]
  },
  {
   "cell_type": "code",
   "execution_count": 13,
   "metadata": {},
   "outputs": [
    {
     "name": "stdout",
     "output_type": "stream",
     "text": [
      "Closest 5 points:\n",
      "Distance: (1, 0.12078857390630211)\n",
      "Distance: (0, 1.0582437258984485)\n",
      "Distance: (0, 1.1038572544225178)\n",
      "Distance: (0, 1.1440716426799353)\n",
      "Distance: (0, 1.1622608231748421)\n"
     ]
    }
   ],
   "source": [
    "# My 4th block: Calculate Euclidean Distances and Classify Test Data\n",
    "closest_points = []\n",
    "\n",
    "for point in training_data:\n",
    "    distance = math.sqrt((input_width - point[0])**2 + (input_height - point[1])**2)\n",
    "    closest_points.append((point[2], distance))\n",
    "\n",
    "# Sort by closest to the test point\n",
    "closest_points.sort(key=lambda item: item[1])\n",
    "\n",
    "print(\"Closest 5 points:\")\n",
    "for distance in closest_points[:5]:\n",
    "    print(f\"Distance: {distance}\")\n"
   ]
  },
  {
   "cell_type": "code",
   "execution_count": 14,
   "metadata": {},
   "outputs": [
    {
     "name": "stdout",
     "output_type": "stream",
     "text": [
      "amount of picatshus closest to test_point: 5\n",
      "amount of pishus closest to test_point: 5 \n"
     ]
    }
   ],
   "source": [
    "# Block 5: Classifying the Test Data\n",
    "picatshu_count = 0\n",
    "pishu_count = 0\n",
    "\n",
    "for label, distance in closest_points[:10]:\n",
    "    if label == 1:\n",
    "        picatshu_count += 1    \n",
    "    elif label == 0:\n",
    "        pishu_count += 1\n",
    "\n",
    "print(f\"amount of picatshus closest to test_point: {picatshu_count}\\namount of pishus closest to test_point: {pishu_count} \")\n"
   ]
  },
  {
   "cell_type": "code",
   "execution_count": 8,
   "metadata": {},
   "outputs": [
    {
     "name": "stdout",
     "output_type": "stream",
     "text": [
      "We couldn't determine whether it's a Picatshu or Pishu.\n"
     ]
    }
   ],
   "source": [
    "# Block 6: Print The Result :)\n",
    "if picatshu_count > pishu_count:\n",
    "    print(\"Picatshu is most similar! It's likely a Picatshu.\")\n",
    "elif picatshu_count < pishu_count:\n",
    "    print(\"Pishu is most similar! It's likely a Pishu.\")\n",
    "else:\n",
    "    print(\"We couldn't determine whether it's a Picatshu or Pishu.\")"
   ]
  }
 ],
 "metadata": {
  "kernelspec": {
   "display_name": "Python 3",
   "language": "python",
   "name": "python3"
  },
  "language_info": {
   "codemirror_mode": {
    "name": "ipython",
    "version": 3
   },
   "file_extension": ".py",
   "mimetype": "text/x-python",
   "name": "python",
   "nbconvert_exporter": "python",
   "pygments_lexer": "ipython3",
   "version": "3.11.5"
  },
  "orig_nbformat": 4
 },
 "nbformat": 4,
 "nbformat_minor": 2
}
